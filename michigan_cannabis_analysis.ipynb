{
 "cells": [
  {
   "cell_type": "code",
   "execution_count": null,
   "metadata": {},
   "outputs": [],
   "source": [
    "pip install pdfplumber"
   ]
  },
  {
   "cell_type": "code",
   "execution_count": null,
   "metadata": {},
   "outputs": [],
   "source": [
    "import pdfplumber as pdf\n",
    "import pandas as pd\n",
    "import re\n",
    "from matplotlib import pyplot as plt"
   ]
  },
  {
   "cell_type": "code",
   "execution_count": null,
   "metadata": {},
   "outputs": [],
   "source": [
    "#removing none\n",
    "#removing \"\"\n",
    "def table_to_df(pdf_file, month_int):\n",
    "    month_pdf = pdf.open(pdf_file)\n",
    "    pdf_page_3 = month_pdf.pages[3]\n",
    "    #extract table in list format\n",
    "    pdf_table = pdf_page_3.extract_table()\n",
    "    edited_list = []\n",
    "    #cleaning list to take out empty strings and None values\n",
    "    for list_item in pdf_table:\n",
    "        new_lista = []\n",
    "        for list_itema in list_item:\n",
    "            if list_itema != '':\n",
    "                new_lista.append(list_itema)\n",
    "        #can also add replace statement here to remove the commas\n",
    "        new_listb = list(filter(None, new_lista))\n",
    "        edited_list.append(new_listb)\n",
    "    cropped_sales_list = edited_list[3:11]\n",
    "    month_sales_df = pd.DataFrame(cropped_sales_list, columns = [\"Product\", \"Quantity\", \"Total_Sales\"])\n",
    "    month_sales_df['Month'] = month_int\n",
    "    return month_sales_df\n"
   ]
  },
  {
   "cell_type": "code",
   "execution_count": null,
   "metadata": {},
   "outputs": [],
   "source": [
    "august_sales = table_to_df(\"August_2021.pdf\", 8)"
   ]
  },
  {
   "cell_type": "code",
   "execution_count": null,
   "metadata": {},
   "outputs": [],
   "source": [
    "july_sales = table_to_df(\"July_2021.pdf\", 7)"
   ]
  },
  {
   "cell_type": "code",
   "execution_count": null,
   "metadata": {},
   "outputs": [],
   "source": [
    "oct_sales = table_to_df(\"October_2021.pdf\", 10)"
   ]
  },
  {
   "cell_type": "code",
   "execution_count": null,
   "metadata": {},
   "outputs": [],
   "source": [
    "sept_sales = table_to_df(\"September_2021.pdf\", 9)"
   ]
  },
  {
   "cell_type": "code",
   "execution_count": null,
   "metadata": {},
   "outputs": [],
   "source": [
    "month_sales = [july_sales, august_sales, sept_sales, oct_sales]"
   ]
  },
  {
   "cell_type": "code",
   "execution_count": null,
   "metadata": {},
   "outputs": [],
   "source": [
    "all_sales = pd.concat(month_sales)\n",
    "#can make two dataframes, one containing sales data and the other with quantity data "
   ]
  },
  {
   "cell_type": "code",
   "execution_count": null,
   "metadata": {},
   "outputs": [],
   "source": [
    "only_sales = all_sales.drop(['Quantity'], axis=1)\n",
    "only_sales"
   ]
  },
  {
   "cell_type": "code",
   "execution_count": null,
   "metadata": {},
   "outputs": [],
   "source": [
    "sales_df = all_sales.pivot(index=\"Month\", columns=\"Product\", values=\"Total_Sales\")\n",
    "#this is so all column names are situated after pivoting\n",
    "sales_df.reset_index(inplace=True)\n"
   ]
  },
  {
   "cell_type": "code",
   "execution_count": null,
   "metadata": {},
   "outputs": [],
   "source": [
    "cols = ['Concentrate', 'Flower', 'Infused Liquid', 'Infused-Edible', 'Infused Non-Edible Solid', \"Inhalable Compound Concentrate\", \"Kief\", 'Shake/Trim', 'Vape Cartridge']\n",
    "sales_df[cols] = sales_df[cols].replace({'\\$':'', ',':''}, regex=True)\n",
    "sales_df = sales_df.fillna(0)\n",
    "sales_df"
   ]
  },
  {
   "cell_type": "code",
   "execution_count": null,
   "metadata": {},
   "outputs": [],
   "source": [
    "sales_df.dtypes"
   ]
  },
  {
   "cell_type": "code",
   "execution_count": null,
   "metadata": {},
   "outputs": [],
   "source": [
    "# changing columns from objects to floats to plot graphs\n",
    "for col in sales_df.columns[1:]:\n",
    "    sales_df = sales_df.astype({col:float})\n",
    "    "
   ]
  },
  {
   "cell_type": "code",
   "execution_count": null,
   "metadata": {},
   "outputs": [],
   "source": [
    "plt.plot(sales_df['Month'], sales_df['Concentrate'], label='Concentrate Sales')\n",
    "plt.plot(sales_df['Month'], sales_df['Infused-Edible'], label='Edible Sales')\n",
    "plt.plot(sales_df['Month'], sales_df['Flower'], label='Flower Sales')\n",
    "plt.plot(sales_df['Month'], sales_df['Vape Cartridge'], label='Vape Sales')\n",
    "plt.plot(sales_df['Month'], sales_df['Shake/Trim'], label='Shake and Trim Sales')\n",
    "plt.xticks([7,8,9,10], ['July', 'August', 'September', 'October'])\n",
    "plt.legend()\n",
    "plt.ylim([500000,30000000])\n",
    "plt.title('Total Sales per Product')\n",
    "plt.xlabel('Months')\n",
    "plt.ylabel('Sales($)')\n",
    "plt.show()"
   ]
  },
  {
   "cell_type": "code",
   "execution_count": null,
   "metadata": {},
   "outputs": [],
   "source": [
    "#plot multiple lines"
   ]
  }
 ],
 "metadata": {
  "kernelspec": {
   "display_name": "Python 3",
   "language": "python",
   "name": "python3"
  },
  "language_info": {
   "codemirror_mode": {
    "name": "ipython",
    "version": 3
   },
   "file_extension": ".py",
   "mimetype": "text/x-python",
   "name": "python",
   "nbconvert_exporter": "python",
   "pygments_lexer": "ipython3",
   "version": "3.7.6"
  }
 },
 "nbformat": 4,
 "nbformat_minor": 4
}
